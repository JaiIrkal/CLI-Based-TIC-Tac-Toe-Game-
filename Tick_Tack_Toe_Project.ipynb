{
 "cells": [
  {
   "cell_type": "code",
   "execution_count": 1,
   "id": "d3c08765",
   "metadata": {},
   "outputs": [],
   "source": [
    "# Create Display Board\n",
    "# Take user input (O or X)\n",
    "# Fill user value on board\n",
    "# Check winning condition\n",
    "# Check if space is empty or not\n",
    "# Decide who's turn is first\n",
    "# If board is already full\n",
    "# If user wants to play the game again"
   ]
  },
  {
   "cell_type": "code",
   "execution_count": 2,
   "id": "4ef418a2",
   "metadata": {},
   "outputs": [
    {
     "data": {
      "text/plain": [
       "[' ', ' ', ' ', ' ', ' ', ' ', ' ', ' ', ' ', ' ']"
      ]
     },
     "execution_count": 2,
     "metadata": {},
     "output_type": "execute_result"
    }
   ],
   "source": [
    "test_board=[\" \"]*10\n",
    "test_board"
   ]
  },
  {
   "cell_type": "code",
   "execution_count": 3,
   "id": "a1089051",
   "metadata": {},
   "outputs": [],
   "source": [
    "from IPython.display import clear_output\n",
    "\n",
    "def display(test_board):\n",
    "    clear_output()\n",
    "    print(test_board[7] + \"    | \" + test_board[8] + \"    | \" + test_board[9])\n",
    "    print(\"-----|------|-----\")\n",
    "    print(test_board[4] + \"    | \" + test_board[5] + \"    | \" + test_board[6])\n",
    "    print(\"-----|------|-----\")\n",
    "    print(test_board[1] + \"    | \" + test_board[2] + \"    | \" + test_board[3])"
   ]
  },
  {
   "cell_type": "code",
   "execution_count": 4,
   "id": "d901eae7",
   "metadata": {},
   "outputs": [
    {
     "name": "stdout",
     "output_type": "stream",
     "text": [
      "     |      |  \n",
      "-----|------|-----\n",
      "     |      |  \n",
      "-----|------|-----\n",
      "     |      |  \n"
     ]
    }
   ],
   "source": [
    "display(test_board)"
   ]
  },
  {
   "cell_type": "code",
   "execution_count": 5,
   "id": "1e19489b",
   "metadata": {},
   "outputs": [],
   "source": [
    "# USER INPUT\n",
    "def player_input():\n",
    "    marker = \"\"\n",
    "    \n",
    "    while not(marker == 'X' or marker == 'O'):\n",
    "        marker = input(\"Player1: Choose X or O: \").upper()\n",
    "        \n",
    "    if marker == 'X':\n",
    "        return ('X', 'O')\n",
    "    else:\n",
    "        return('O', 'X')\n",
    "        "
   ]
  },
  {
   "cell_type": "code",
   "execution_count": 6,
   "id": "9824efe6",
   "metadata": {},
   "outputs": [],
   "source": [
    "# FILL USER VALUES ON THE BOARD\n",
    "def place_marker(board, marker, position):\n",
    "    board[position] = marker"
   ]
  },
  {
   "cell_type": "code",
   "execution_count": 7,
   "id": "ce267639",
   "metadata": {},
   "outputs": [
    {
     "name": "stdout",
     "output_type": "stream",
     "text": [
      "8    | 9    | 10\n",
      "-----|------|-----\n",
      "5    | 6    | c\n",
      "-----|------|-----\n",
      "2    | 3    | 4\n"
     ]
    }
   ],
   "source": [
    "test_board = [\"1\",\"2\",\"3\",\"4\",\"5\",\"6\",\"7\",\"8\",\"9\",\"10\"]\n",
    "display(test_board)\n",
    "place_marker(test_board, \"c\", 6)\n",
    "display(test_board)"
   ]
  },
  {
   "cell_type": "code",
   "execution_count": 8,
   "id": "1d6b6b1e",
   "metadata": {},
   "outputs": [],
   "source": [
    "# WINNING GOALS\n",
    "def win_check(board, mark):\n",
    "    #across the top\n",
    "    return (( board[7] == mark and board[8] == mark and board[9] == mark) or\n",
    "    #across middle\n",
    "            (board[4] == mark and board[5] == mark and board[6] == mark) or\n",
    "    #across bottom\n",
    "            (board[1] == mark and board[2] == mark and board[3] == mark) or\n",
    "    #down left\n",
    "            (board[7] == mark and board[4] == mark and board[1] == mark) or\n",
    "    #down right\n",
    "            (board[9] == mark and board[6] == mark and board[3] == mark) or\n",
    "    #down middle\n",
    "            (board[8] == mark and board[5] == mark and board[2] == mark) or\n",
    "    #2 diagonals\n",
    "            (board[7] == mark and board[5] == mark and board[3] == mark) or\n",
    "            (board[9] == mark and board[5] == mark and board[1] == mark)\n",
    "           )"
   ]
  },
  {
   "cell_type": "code",
   "execution_count": 9,
   "id": "b7452220",
   "metadata": {},
   "outputs": [],
   "source": [
    "# CHECK SPACE IS EMPTY OR NOT\n",
    "def space_check(board, position):\n",
    "    return board[position] == \" \""
   ]
  },
  {
   "cell_type": "code",
   "execution_count": 10,
   "id": "21641719",
   "metadata": {},
   "outputs": [],
   "source": [
    "# DECIDE WHO'S TURN IS FIRST\n",
    "import random\n",
    "\n",
    "def choose_first():\n",
    "    if random.randint(0,1)==0:\n",
    "        return 'Player2'\n",
    "    else:\n",
    "        return 'Player1'"
   ]
  },
  {
   "cell_type": "code",
   "execution_count": 11,
   "id": "1852d76e",
   "metadata": {},
   "outputs": [],
   "source": [
    "# CHECK BOARD IS FULL OR NOT\n",
    "def full_board_check(board):\n",
    "    for i in range(1, 10):\n",
    "        if space_check(board, i):\n",
    "            return False\n",
    "    return True"
   ]
  },
  {
   "cell_type": "code",
   "execution_count": 12,
   "id": "db6ac2f7",
   "metadata": {},
   "outputs": [],
   "source": [
    "# TAKE USER INPUT\n",
    "def player_choice(board):\n",
    "    position = 0\n",
    "    while position not in [1, 2, 3, 4, 5, 6, 7, 8, 9] or not space_check(board, position):\n",
    "        position = int(input(\"Enter position 1-9\"))\n",
    "    return position"
   ]
  },
  {
   "cell_type": "code",
   "execution_count": 13,
   "id": "8b7f8a5d",
   "metadata": {},
   "outputs": [],
   "source": [
    "# IF USER WANTS TO PLAY AGAIN\n",
    "def replay():\n",
    "    return input(\"Do ypu want to play again? (y or n)\").lower()"
   ]
  },
  {
   "cell_type": "code",
   "execution_count": null,
   "id": "75b59875",
   "metadata": {},
   "outputs": [
    {
     "name": "stdout",
     "output_type": "stream",
     "text": [
      "O    |      |  \n",
      "-----|------|-----\n",
      "X    | O    | X\n",
      "-----|------|-----\n",
      "O    | X    | O\n",
      "You Win!\n",
      "Player1: Choose X or O: 8\n",
      "Player1: Choose X or O: x\n",
      "Player2 will go first\n",
      "Do you want to play again?(y or n)n\n",
      "Player1: Choose X or O: o\n",
      "Player1 will go first\n",
      "Do you want to play again?(y or n)n\n"
     ]
    }
   ],
   "source": [
    "#COMIPLE ALL\n",
    "print(\"Welcome to Tic Tac Toe Game!\")\n",
    "\n",
    "while True:\n",
    "    theBoard = [\" \"]*10\n",
    "    player1_marker, player2_marker = player_input()\n",
    "    turn = choose_first()\n",
    "    print(turn + \" will go first\")\n",
    "    \n",
    "    play_game = input(\"Do you want to play again?(y or n)\")\n",
    "    \n",
    "    if play_game.lower()[0] == 'y':\n",
    "        game_on = True\n",
    "    else: \n",
    "        game_on = False\n",
    "        \n",
    "    while game_on:\n",
    "        if turn == 'Player1':\n",
    "            display(theBoard)\n",
    "            position = player_choice(theBoard)\n",
    "            place_marker(theBoard, player1_marker, position)\n",
    "            \n",
    "            if win_check(theBoard, player1_marker):\n",
    "                display(theBoard)\n",
    "                print(\"You Win!\")\n",
    "                game_on = False\n",
    "                \n",
    "            else:\n",
    "                if full_board_check(theBoard):\n",
    "                    display(theBoard)\n",
    "                    print(\"It's a Draw!\")\n",
    "                    break\n",
    "                else:\n",
    "                    turn = \"Player2\"\n",
    "        else:\n",
    "            display(theBoard)\n",
    "            position = player_choice(theBoard)\n",
    "            place_marker(theBoard, player2_marker, position)\n",
    "            \n",
    "            if win_check(theBoard, player2_marker):\n",
    "                display(theBoard)\n",
    "                print(\"You Win!\")\n",
    "                game_on = False\n",
    "                \n",
    "            else:\n",
    "                if full_board_check(theBoard):\n",
    "                    display(theBoard)\n",
    "                    print(\"It's a Draw!\")\n",
    "                    break\n",
    "                else:\n",
    "                    turn = \"Player1\"\n",
    "if replay().lower.startswith('n'):\n",
    "    break"
   ]
  }
 ],
 "metadata": {
  "kernelspec": {
   "display_name": "Python 3",
   "language": "python",
   "name": "python3"
  },
  "language_info": {
   "codemirror_mode": {
    "name": "ipython",
    "version": 3
   },
   "file_extension": ".py",
   "mimetype": "text/x-python",
   "name": "python",
   "nbconvert_exporter": "python",
   "pygments_lexer": "ipython3",
   "version": "3.8.8"
  }
 },
 "nbformat": 4,
 "nbformat_minor": 5
}
